{
 "cells": [
  {
   "cell_type": "code",
   "execution_count": 16,
   "metadata": {},
   "outputs": [],
   "source": [
    "# PUT INPUT VARIABLES HERE\n",
    "import numpy as np\n",
    "A = np.array([[7,1,2],[1,5,3],[2,3,8]])\n",
    "b = np.array([30,10,12])\n",
    "I = np.array([[1, 0, 0], [0, 1, 0], [0, 0, 1]])"
   ]
  },
  {
   "cell_type": "code",
   "execution_count": 17,
   "metadata": {},
   "outputs": [],
   "source": [
    "x_real = np.linalg.solve(A, b)"
   ]
  },
  {
   "cell_type": "code",
   "execution_count": 18,
   "metadata": {},
   "outputs": [],
   "source": [
    "# Returns normalized A and b so that |D| < 1\n",
    "def normalize(A, b):\n",
    "    normalizedMatrix = []\n",
    "    normalizedVector = []\n",
    "    for idx, row in enumerate(A):\n",
    "        normalizedMatrix.append(row/np.max(row))\n",
    "        normalizedVector.append(b[idx]/np.max(row))\n",
    "    return np.array(normalizedMatrix), np.array(normalizedVector)"
   ]
  },
  {
   "cell_type": "code",
   "execution_count": 19,
   "metadata": {},
   "outputs": [],
   "source": [
    "# compute normalized matrices and find D so that |D| < 1 for any norm\n",
    "normalizedA,normalizedb = normalize(A,b)\n",
    "D = I - normalizedA"
   ]
  },
  {
   "cell_type": "code",
   "execution_count": 21,
   "metadata": {},
   "outputs": [
    {
     "name": "stdout",
     "output_type": "stream",
     "text": [
      "PART b): x =  [ 4.04016582  1.03228444 -0.03910395]\n",
      "PART c): x =  [ 4.04311168  1.04561134 -0.05141662]\n"
     ]
    }
   ],
   "source": [
    "# Driver for part b)\n",
    "x = np.array([0,0,0])\n",
    "epsilon = 0.01\n",
    "# Iterates until the mean squared error is more than epsilon\n",
    "while (np.square(x_real - x)).mean()> epsilon:\n",
    "    x = D.dot(x) + normalizedb\n",
    "print(\"PART b): x = \", x)\n",
    "\n",
    "# Driver for part c)\n",
    "x = [100,100,100]\n",
    "epsilon = 0.01\n",
    "# Iterates until the mean squared error is more than epsilon\n",
    "while (np.square(x_real - x)).mean()> epsilon:\n",
    "    x = D.dot(x) + normalizedb\n",
    "print(\"PART c): x = \", x)"
   ]
  },
  {
   "cell_type": "code",
   "execution_count": null,
   "metadata": {},
   "outputs": [],
   "source": []
  },
  {
   "cell_type": "code",
   "execution_count": null,
   "metadata": {},
   "outputs": [],
   "source": []
  }
 ],
 "metadata": {
  "kernelspec": {
   "display_name": "Python 3",
   "language": "python",
   "name": "python3"
  },
  "language_info": {
   "codemirror_mode": {
    "name": "ipython",
    "version": 3
   },
   "file_extension": ".py",
   "mimetype": "text/x-python",
   "name": "python",
   "nbconvert_exporter": "python",
   "pygments_lexer": "ipython3",
   "version": "3.8.3"
  }
 },
 "nbformat": 4,
 "nbformat_minor": 4
}
