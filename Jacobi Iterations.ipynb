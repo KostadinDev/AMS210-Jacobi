{
 "cells": [
  {
   "cell_type": "code",
   "execution_count": 1,
   "metadata": {},
   "outputs": [],
   "source": [
    "# PUT INPUT VARIABLES HERE\n",
    "\n",
    "import numpy as np\n",
    "A = np.array([[7,1,2],[1,5,3],[2,3,8]])\n",
    "b = np.array([30,10,12])\n",
    "x = np.array([0,0,0])\n",
    "I = np.array([[1, 0, 0], [0, 1, 0], [0, 0, 1]])"
   ]
  },
  {
   "cell_type": "code",
   "execution_count": 2,
   "metadata": {},
   "outputs": [],
   "source": [
    "# Returns normalized A and b so that |D| < 1\n",
    "def normalize(A, b):\n",
    "    normalizedMatrix = []\n",
    "    normalizedVector = []\n",
    "    for idx, row in enumerate(A):\n",
    "        normalizedMatrix.append(row/np.max(row))\n",
    "        normalizedVector.append(b[idx]/np.max(row))\n",
    "    return np.array(normalizedMatrix), np.array(normalizedVector)"
   ]
  },
  {
   "cell_type": "code",
   "execution_count": 3,
   "metadata": {},
   "outputs": [],
   "source": [
    "# compute normalized matrices and find D so that |D| < 1 for any norm\n",
    "normalizedA,normalizedb = normalize(A,b)\n",
    "D = I - normalizedA"
   ]
  },
  {
   "cell_type": "code",
   "execution_count": 4,
   "metadata": {},
   "outputs": [
    {
     "name": "stdout",
     "output_type": "stream",
     "text": [
      "PART b): x =  [4.10935626 1.15407063 0.03966883]\n",
      "PART c): x =  [4.11588671 1.16475437 0.04866394]\n"
     ]
    }
   ],
   "source": [
    "# Driver for part b)\n",
    "iterations = 20\n",
    "for iteration in range(iterations):\n",
    "    x = D.dot(x) + normalizedb\n",
    "print(\"PART b): x = \", x)\n",
    "\n",
    "# Driver for part c)\n",
    "iterations = 20\n",
    "x = [100,100,100]\n",
    "for iteration in range(iterations):\n",
    "    x = D.dot(x) + normalizedb\n",
    "print(\"PART c): x = \", x)"
   ]
  }
 ],
 "metadata": {
  "kernelspec": {
   "display_name": "Python 3",
   "language": "python",
   "name": "python3"
  },
  "language_info": {
   "codemirror_mode": {
    "name": "ipython",
    "version": 3
   },
   "file_extension": ".py",
   "mimetype": "text/x-python",
   "name": "python",
   "nbconvert_exporter": "python",
   "pygments_lexer": "ipython3",
   "version": "3.8.3"
  }
 },
 "nbformat": 4,
 "nbformat_minor": 4
}
