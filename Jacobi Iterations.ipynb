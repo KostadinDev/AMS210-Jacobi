{
 "cells": [
  {
   "cell_type": "code",
   "execution_count": 1,
   "metadata": {},
   "outputs": [],
   "source": [
    "import numpy as np\n",
    "# Returns normalized A and b so that |D| < 1\n",
    "def normalize(A, b):\n",
    "    normalizedMatrix = []\n",
    "    normalizedVector = []\n",
    "    for idx, row in enumerate(A):\n",
    "        normalizedMatrix.append(row/np.max(row))\n",
    "        normalizedVector.append(b[idx]/np.max(row))\n",
    "    return np.array(normalizedMatrix), np.array(normalizedVector)\n",
    "\n",
    "\n",
    "# performs jacobi\n",
    "# A is the input matrix, b is the solution vector,\n",
    "# x is the initial input, epsilon is the maximum mean squared error\n",
    "def jacobi(A, b, x, epsilon = 0.01, return_iterations = False):\n",
    "    normalizedA,normalizedb = normalize(A,b)\n",
    "    I = np.identity(A.shape[0])\n",
    "    # Finds D with normalized A so that |D| < 1\n",
    "    D = I - normalizedA\n",
    "    # Computes target solution\n",
    "    x_real = np.linalg.solve(A, b)\n",
    "    num_iterations = 0\n",
    "    # Iterates until the mean squared error is more than epsilon\n",
    "    while (np.square(x_real - x)).mean()> epsilon:\n",
    "        num_iterations+=1\n",
    "        x = D.dot(x) + normalizedb\n",
    "    if return_iterations:\n",
    "        return x, num_iterations\n",
    "    else:\n",
    "        return x"
   ]
  },
  {
   "cell_type": "code",
   "execution_count": 2,
   "metadata": {},
   "outputs": [
    {
     "name": "stdout",
     "output_type": "stream",
     "text": [
      "PART b): x =  [4.11578584 1.16435552 0.04897155]  in 11 iterations\n",
      "PART c): x =  [4.11588671 1.16475437 0.04866394]  in 20 iterations\n"
     ]
    }
   ],
   "source": [
    "# Put input variables here\n",
    "A = np.array([[7,1,2],[1,5,3],[2,3,8]])\n",
    "b = np.array([30,10,12])\n",
    "\n",
    "# Driver for part b)\n",
    "x = np.array([0,0,0])\n",
    "x, num_iterations = jacobi(A, b, x, epsilon = 0.0001, return_iterations = True)\n",
    "print(\"PART b): x = \", x, f\" in {num_iterations} iterations\")\n",
    "\n",
    "# Driver for part c)\n",
    "x = [100,100,100]\n",
    "x, num_iterations = jacobi(A, b, x, epsilon = 0.0001, return_iterations = True)\n",
    "print(\"PART c): x = \", x, f\" in {num_iterations} iterations\")"
   ]
  }
 ],
 "metadata": {
  "kernelspec": {
   "display_name": "Python 3",
   "language": "python",
   "name": "python3"
  },
  "language_info": {
   "codemirror_mode": {
    "name": "ipython",
    "version": 3
   },
   "file_extension": ".py",
   "mimetype": "text/x-python",
   "name": "python",
   "nbconvert_exporter": "python",
   "pygments_lexer": "ipython3",
   "version": "3.8.3"
  }
 },
 "nbformat": 4,
 "nbformat_minor": 4
}
